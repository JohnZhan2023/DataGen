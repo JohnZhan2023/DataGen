{
 "cells": [
  {
   "cell_type": "code",
   "execution_count": 17,
   "metadata": {},
   "outputs": [],
   "source": [
    "from pipeline.utils import load_dataset"
   ]
  },
  {
   "cell_type": "code",
   "execution_count": 24,
   "metadata": {},
   "outputs": [],
   "source": [
    "dataset = load_dataset(root=\"/home/zhanjh/nuplan/online_s6/index\",\n",
    "                    split=\"val\",\n",
    "                    dataset_scale=1)"
   ]
  },
  {
   "cell_type": "code",
   "execution_count": 38,
   "metadata": {},
   "outputs": [
    {
     "data": {
      "text/plain": [
       "dict_keys(['route_ids', 'road_ids', 'traffic_ids', 'traffic_status', 'agent_ids', 'frame_id', 'file_name', 'map', 'timestamp', 'scenario_type', 't0_frame_id', 'scenario_id', 'intentions', 'ego_goal', 'navigation', 'split'])"
      ]
     },
     "execution_count": 38,
     "metadata": {},
     "output_type": "execute_result"
    }
   ],
   "source": [
    "i=7\n",
    "dataset[i].keys()\n"
   ]
  },
  {
   "cell_type": "code",
   "execution_count": 40,
   "metadata": {},
   "outputs": [
    {
     "data": {
      "text/plain": [
       "['10f09d3c48aa5435',\n",
       " '33f51b8c29fe5dbe',\n",
       " 'f744b49797105309',\n",
       " '02fe08490442558b',\n",
       " '73c2498b209b578e',\n",
       " '4d9af8bc7bdf5fe0',\n",
       " '9a5a6b2e304e501c',\n",
       " '2a5dbe3a816f520d',\n",
       " '82c3f7626c025c78',\n",
       " 'a44af36f914f5e6e',\n",
       " '15a3d8265c165085',\n",
       " 'f34965c4c7385152',\n",
       " 'ego',\n",
       " 'ada69f417fa15d80',\n",
       " 'ac5e90f99edd56c8',\n",
       " '60f20e5e985156f3',\n",
       " 'c17e48d572595de6']"
      ]
     },
     "execution_count": 40,
     "metadata": {},
     "output_type": "execute_result"
    }
   ],
   "source": [
    "dataset[i][\"agent_ids\"]"
   ]
  },
  {
   "cell_type": "code",
   "execution_count": 36,
   "metadata": {},
   "outputs": [],
   "source": [
    "pic_path = \"home/zhanjh/data/\"+dataset[i][\"file_name\"]+\"/\"+dataset[i][\"scenario_id\"]"
   ]
  },
  {
   "cell_type": "code",
   "execution_count": 37,
   "metadata": {},
   "outputs": [
    {
     "data": {
      "text/plain": [
       "'home/zhanjh/data/2021.08.31.14.40.58_veh-40_01022_01255/f6a4ef20d2375e58'"
      ]
     },
     "execution_count": 37,
     "metadata": {},
     "output_type": "execute_result"
    }
   ],
   "source": [
    "pic_path"
   ]
  },
  {
   "cell_type": "code",
   "execution_count": null,
   "metadata": {},
   "outputs": [],
   "source": [
    "from nuplan.common.actor_state.vehicle_parameters import get_pacifica_parameters\n",
    "from nuplan.planning.scenario_builder.nuplan_db.nuplan_scenario import NuPlanScenario, CameraChannel, LidarChannel\n",
    "from nuplan.planning.scenario_builder.nuplan_db.nuplan_scenario_utils import ScenarioExtractionInfo\n",
    "\n",
    "NUPLAN_DATA_ROOT = \"/data/sets/nuplan/\"\n",
    "NUPLAN_MAP_VERSION = \"nuplan-maps-v1.0\"\n",
    "NUPLAN_MAPS_ROOT = \"/data/sets/nuplan/maps\"\n",
    "NUPLAN_SENSOR_ROOT = f\"{NUPLAN_DATA_ROOT}/nuplan-v1.1/sensor_blobs\"\n",
    "TEST_DB_FILE = f\"{NUPLAN_DATA_ROOT}/nuplan-v1.1/splits/mini/2021.05.12.22.00.38_veh-35_01008_01518.db\"\n",
    "MAP_NAME = \"us-nv-las-vegas\"\n",
    "TEST_INITIAL_LIDAR_PC = \"58ccd3df9eab54a3\"\n",
    "TEST_INITIAL_TIMESTAMP = 1620858198150622\n",
    "\n",
    "scenario = NuPlanScenario(\n",
    "            data_root=f\"{NUPLAN_DATA_ROOT}/nuplan-v1.1/splits/mini\",\n",
    "            log_file_load_path=\"home/zhanjh/data/2021.08.31.14.40.58_veh-40_01022_01255.db\",\n",
    "            initial_lidar_token=TEST_INITIAL_LIDAR_PC,\n",
    "            initial_lidar_timestamp=TEST_INITIAL_TIMESTAMP,\n",
    "            scenario_type=\"scenario_type\",\n",
    "            map_root=NUPLAN_MAPS_ROOT,\n",
    "            map_version=NUPLAN_MAP_VERSION,\n",
    "            map_name=MAP_NAME,\n",
    "            scenario_extraction_info=ScenarioExtractionInfo(\n",
    "                scenario_name=\"scenario_name\", scenario_duration=20, extraction_offset=1, subsample_ratio=0.5\n",
    "            ),\n",
    "            ego_vehicle_parameters=get_pacifica_parameters(),\n",
    "            sensor_root=NUPLAN_DATA_ROOT+\"/nuplan-v1.1/sensor_blobs\",\n",
    ")"
   ]
  }
 ],
 "metadata": {
  "kernelspec": {
   "display_name": "str",
   "language": "python",
   "name": "python3"
  },
  "language_info": {
   "codemirror_mode": {
    "name": "ipython",
    "version": 3
   },
   "file_extension": ".py",
   "mimetype": "text/x-python",
   "name": "python",
   "nbconvert_exporter": "python",
   "pygments_lexer": "ipython3",
   "version": "3.9.18"
  }
 },
 "nbformat": 4,
 "nbformat_minor": 2
}
