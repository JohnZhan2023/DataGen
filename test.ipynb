{
 "cells": [
  {
   "cell_type": "code",
   "execution_count": 17,
   "metadata": {},
   "outputs": [],
   "source": [
    "from pipeline.utils import load_dataset"
   ]
  },
  {
   "cell_type": "code",
   "execution_count": 45,
   "metadata": {},
   "outputs": [],
   "source": [
    "dataset = load_dataset(root=\"/home/zhanjh/data/index\",\n",
    "                    split=\"val\",\n",
    "                    dataset_scale=1)"
   ]
  },
  {
   "cell_type": "code",
   "execution_count": 46,
   "metadata": {},
   "outputs": [
    {
     "data": {
      "text/plain": [
       "dict_keys(['route_ids', 'road_ids', 'traffic_ids', 'traffic_status', 'agent_ids', 'frame_id', 'file_name', 'map', 'timestamp', 'scenario_type', 't0_frame_id', 'scenario_id', 'intentions', 'mission_goal', 'expert_goal', 'navigation', 'images_path', 'split'])"
      ]
     },
     "execution_count": 46,
     "metadata": {},
     "output_type": "execute_result"
    }
   ],
   "source": [
    "i=7\n",
    "dataset[i].keys()\n"
   ]
  },
  {
   "cell_type": "code",
   "execution_count": 47,
   "metadata": {},
   "outputs": [
    {
     "data": {
      "text/plain": [
       "['2021.08.31.14.40.58_veh-40_01022_01255/CAM_F0/8f482bf8a4f15b6e.jpg',\n",
       " '2021.08.31.14.40.58_veh-40_01022_01255/CAM_L0/550fc7c797225a1a.jpg',\n",
       " '2021.08.31.14.40.58_veh-40_01022_01255/CAM_R0/454887e77d45579f.jpg',\n",
       " '2021.08.31.14.40.58_veh-40_01022_01255/CAM_L1/f42f7554e0a05f63.jpg',\n",
       " '2021.08.31.14.40.58_veh-40_01022_01255/CAM_R1/b5ef0bf00df35b2a.jpg',\n",
       " '2021.08.31.14.40.58_veh-40_01022_01255/CAM_L2/150ce839dde95ee4.jpg',\n",
       " '2021.08.31.14.40.58_veh-40_01022_01255/CAM_R2/e9af23fc1eed5801.jpg',\n",
       " '2021.08.31.14.40.58_veh-40_01022_01255/CAM_B0/d12a20f374e55257.jpg']"
      ]
     },
     "execution_count": 47,
     "metadata": {},
     "output_type": "execute_result"
    }
   ],
   "source": [
    "dataset[i][\"images_path\"]"
   ]
  },
  {
   "cell_type": "code",
   "execution_count": 42,
   "metadata": {},
   "outputs": [],
   "source": [
    "from map.map import return_map_dic\n",
    "all_maps_dic = return_map_dic()\n",
    "from transformer4planning.preprocess.nuplan_rasterize import nuplan_rasterize_collate_func\n",
    "samples = nuplan_rasterize_collate_func(\n",
    "    [dataset[i]], all_maps_dic= all_maps_dic, dic_path=\"/home/zhanjh/nuplan/online_s6\",\n",
    ")   "
   ]
  },
  {
   "cell_type": "code",
   "execution_count": 43,
   "metadata": {},
   "outputs": [
    {
     "data": {
      "text/plain": [
       "dict_keys(['high_res_raster', 'low_res_raster', 'context_actions', 'trajectory_label', 'file_name', 'map', 'split', 'frame_id', 'scenario_type', 'index', 'scenario_id', 't0_frame_id', 'route_ids', 'aug_current'])"
      ]
     },
     "execution_count": 43,
     "metadata": {},
     "output_type": "execute_result"
    }
   ],
   "source": [
    "samples.keys()"
   ]
  },
  {
   "cell_type": "code",
   "execution_count": 44,
   "metadata": {},
   "outputs": [
    {
     "data": {
      "text/plain": [
       "torch.Size([1, 4, 7])"
      ]
     },
     "execution_count": 44,
     "metadata": {},
     "output_type": "execute_result"
    }
   ],
   "source": [
    "samples[\"context_actions\"].shape"
   ]
  },
  {
   "cell_type": "code",
   "execution_count": 36,
   "metadata": {},
   "outputs": [],
   "source": [
    "pic_path = \"home/zhanjh/data/\"+dataset[i][\"file_name\"]+\"/\"+dataset[i][\"scenario_id\"]"
   ]
  },
  {
   "cell_type": "code",
   "execution_count": 37,
   "metadata": {},
   "outputs": [
    {
     "data": {
      "text/plain": [
       "'home/zhanjh/data/2021.08.31.14.40.58_veh-40_01022_01255/f6a4ef20d2375e58'"
      ]
     },
     "execution_count": 37,
     "metadata": {},
     "output_type": "execute_result"
    }
   ],
   "source": [
    "pic_path"
   ]
  },
  {
   "cell_type": "code",
   "execution_count": null,
   "metadata": {},
   "outputs": [],
   "source": []
  }
 ],
 "metadata": {
  "kernelspec": {
   "display_name": "str",
   "language": "python",
   "name": "python3"
  },
  "language_info": {
   "codemirror_mode": {
    "name": "ipython",
    "version": 3
   },
   "file_extension": ".py",
   "mimetype": "text/x-python",
   "name": "python",
   "nbconvert_exporter": "python",
   "pygments_lexer": "ipython3",
   "version": "3.9.18"
  }
 },
 "nbformat": 4,
 "nbformat_minor": 2
}
